{
 "cells": [
  {
   "cell_type": "markdown",
   "metadata": {},
   "source": [
    "1. In the below elements which of them are values or an expression? eg:- values can be\n",
    "integer or string and expressions will be mathematical operators.\n",
    "*,'hello', -87.8,-,/,+,6\n",
    "\n",
    "Ans: There are 3 values and 4 expressions\n",
    "\n",
    "\n",
    "values: 'hello',-87.8,6\n",
    "\n",
    "expressions: *,/,+,-\n",
    "\n"
   ]
  },
  {
   "cell_type": "markdown",
   "metadata": {},
   "source": [
    "2. What is the difference between string and variable?\n",
    "\n",
    "Ans: A Variable is used to store of information, and a String is a type of information you would store in a Variable.\n"
   ]
  },
  {
   "cell_type": "markdown",
   "metadata": {},
   "source": [
    "3.Describe three different data types.\n",
    "\n",
    "\n",
    "Ans: Boolean Type: bool.\n",
    "\n",
    "Sequence Types: range, tuple, list.\n",
    "\n",
    "Numeric Types: complex, float,int.\n",
    "\n",
    "Text Type: str."
   ]
  },
  {
   "cell_type": "markdown",
   "metadata": {},
   "source": [
    "4. What is an expression made up of? What do all expressions do?\n",
    "\n",
    "\n",
    "Ans: An expression is made up of operators and operands which are executed to produce required output."
   ]
  },
  {
   "cell_type": "markdown",
   "metadata": {},
   "source": [
    "5. This assignment statements, like spam = 10. What is the difference between an\n",
    "expression and a statement?\n",
    "\n",
    "Ans: An expression is combination of variables,values and mathamatical operations(operands) and the statement is like a command\n",
    "that executes and produce results."
   ]
  },
  {
   "cell_type": "markdown",
   "metadata": {},
   "source": [
    "6. After running the following code, what does the variable bacon contain?\n",
    "bacon = 22\n",
    "bacon + 1\n",
    "\n",
    "Ans: After running the following, code the variable bacon contains the value \"23\" it's output is shown below."
   ]
  },
  {
   "cell_type": "code",
   "execution_count": 15,
   "metadata": {},
   "outputs": [
    {
     "data": {
      "text/plain": [
       "23"
      ]
     },
     "execution_count": 15,
     "metadata": {},
     "output_type": "execute_result"
    }
   ],
   "source": [
    "bacon=22\n",
    "bacon+1"
   ]
  },
  {
   "cell_type": "markdown",
   "metadata": {},
   "source": [
    "7.What should the values of the following two terms be?\n",
    "\n",
    "'spam'+'spamspam'\n",
    "\n",
    "'spam'*3\n",
    "\n",
    "Ans: Both expression contains string and one is string concatations whereas the other is string multipication which produce same results as output."
   ]
  },
  {
   "cell_type": "code",
   "execution_count": 16,
   "metadata": {},
   "outputs": [
    {
     "data": {
      "text/plain": [
       "'spamspamspam'"
      ]
     },
     "execution_count": 16,
     "metadata": {},
     "output_type": "execute_result"
    }
   ],
   "source": [
    "'spam'+'spamspam'\n"
   ]
  },
  {
   "cell_type": "code",
   "execution_count": 17,
   "metadata": {},
   "outputs": [
    {
     "data": {
      "text/plain": [
       "'spamspamspam'"
      ]
     },
     "execution_count": 17,
     "metadata": {},
     "output_type": "execute_result"
    }
   ],
   "source": [
    "'spam'*3"
   ]
  },
  {
   "cell_type": "markdown",
   "metadata": {},
   "source": [
    "8. Why is eggs a valid variable name while 100 is invalid?\n",
    "\n",
    "Ans: As per python,Variable names cannot begin with a number. The python rules for naming a variable are :-\n",
    "\n",
    "1)Variable name must start with a letter or the underscore character.\n",
    "\n",
    "2)Variable name cannot start with a number.\n",
    "\n",
    "3)Variable name can only contain alpha-numeric characters and underscores (A-z, 0-9, & _ ).\n",
    "\n",
    "4)Variable names are case-sensitive.\n",
    "\n",
    "5)The reserved words(keywords) cannot be used naming the variable."
   ]
  },
  {
   "cell_type": "code",
   "execution_count": 18,
   "metadata": {},
   "outputs": [
    {
     "data": {
      "text/plain": [
       "23"
      ]
     },
     "execution_count": 18,
     "metadata": {},
     "output_type": "execute_result"
    }
   ],
   "source": [
    "eggs=23\n",
    "eggs"
   ]
  },
  {
   "cell_type": "code",
   "execution_count": 20,
   "metadata": {},
   "outputs": [
    {
     "ename": "SyntaxError",
     "evalue": "can't assign to literal (<ipython-input-20-5e73ef333b3b>, line 1)",
     "output_type": "error",
     "traceback": [
      "\u001b[1;36m  File \u001b[1;32m\"<ipython-input-20-5e73ef333b3b>\"\u001b[1;36m, line \u001b[1;32m1\u001b[0m\n\u001b[1;33m    100=56\u001b[0m\n\u001b[1;37m          ^\u001b[0m\n\u001b[1;31mSyntaxError\u001b[0m\u001b[1;31m:\u001b[0m can't assign to literal\n"
     ]
    }
   ],
   "source": [
    "100=56"
   ]
  },
  {
   "cell_type": "markdown",
   "metadata": {},
   "source": [
    "\n",
    "9.What three functions can be used to get the integer,floating-point number,or string version of a value?\n",
    "\n",
    "Ans: The int(),float(),and str() functions will evaluate to the integer,floating-point number,string version of the value passed to them.\n",
    "\n",
    "\n",
    "\n",
    "10.Why does this expression cause an error? how can you fix it?\n",
    "\n",
    "'I have eaten ' + 99 + 'burritos.'\n",
    "\n",
    "\n",
    "\n",
    "Ans: The value 99 in above expression as an error because Integer value cannot concatinate with string. So, we need to convert  Interger to String with the help of function called str()."
   ]
  },
  {
   "cell_type": "code",
   "execution_count": 21,
   "metadata": {},
   "outputs": [
    {
     "data": {
      "text/plain": [
       "'I have eaten 99 burritos.'"
      ]
     },
     "execution_count": 21,
     "metadata": {},
     "output_type": "execute_result"
    }
   ],
   "source": [
    "'I have eaten ' + str(99) + ' burritos.'"
   ]
  },
  {
   "cell_type": "code",
   "execution_count": null,
   "metadata": {},
   "outputs": [],
   "source": []
  }
 ],
 "metadata": {
  "kernelspec": {
   "display_name": "Python 3",
   "language": "python",
   "name": "python3"
  },
  "language_info": {
   "codemirror_mode": {
    "name": "ipython",
    "version": 3
   },
   "file_extension": ".py",
   "mimetype": "text/x-python",
   "name": "python",
   "nbconvert_exporter": "python",
   "pygments_lexer": "ipython3",
   "version": "3.7.4"
  }
 },
 "nbformat": 4,
 "nbformat_minor": 2
}
