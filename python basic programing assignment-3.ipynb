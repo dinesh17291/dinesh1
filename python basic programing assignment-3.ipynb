{
 "cells": [
  {
   "cell_type": "markdown",
   "metadata": {},
   "source": [
    "1.Write a Python program to check if a Number is Positive, Negative or Zero ?"
   ]
  },
  {
   "cell_type": "code",
   "execution_count": 3,
   "metadata": {},
   "outputs": [
    {
     "name": "stdout",
     "output_type": "stream",
     "text": [
      "Enter the Number: -45\n",
      "-45 is a Negative number\n"
     ]
    }
   ],
   "source": [
    "n=int(input(\"Enter the Number: \"))\n",
    "if(n<0):\n",
    "    print(\"{} is a Negative number\" .format(n))\n",
    "elif(n>0):\n",
    "    print(\"{} is a Positive\".format(n))\n",
    "else:\n",
    "    print(\"{} is Zero\".format(n))"
   ]
  },
  {
   "cell_type": "markdown",
   "metadata": {},
   "source": [
    "2.Write a Python program to check if a Number is Odd or Even ?"
   ]
  },
  {
   "cell_type": "code",
   "execution_count": 4,
   "metadata": {},
   "outputs": [
    {
     "name": "stdout",
     "output_type": "stream",
     "text": [
      "Enter the Number4\n",
      "4 is a Even Number\n"
     ]
    }
   ],
   "source": [
    "n=int(input(\"Enter the Number\"))\n",
    "if(n%2==0):\n",
    "    print(\"{} is a Even Number\".format(n))\n",
    "else:\n",
    "    print(\"{} is a Odd Number\".format(n))"
   ]
  },
  {
   "cell_type": "markdown",
   "metadata": {},
   "source": [
    "3.Write a Python program to check Leap Year ?"
   ]
  },
  {
   "cell_type": "code",
   "execution_count": 5,
   "metadata": {},
   "outputs": [
    {
     "name": "stdout",
     "output_type": "stream",
     "text": [
      "Enter the Year2012\n",
      "2012 is a Leap Year\n"
     ]
    }
   ],
   "source": [
    "n=int(input(\"Enter the Year\"))\n",
    "if(n%4==0):\n",
    "    print(\"{} is a Leap Year\".format(n))\n",
    "elif(n%100==0):\n",
    "    print(\"{} is not a Leap Year\".format(n))\n",
    "elif(n%400==0):\n",
    "    print(\"{} is a Leap Year\".format(n))\n",
    "else:\n",
    "    print(\"{} is not a Leap Year\".format(n))"
   ]
  },
  {
   "cell_type": "markdown",
   "metadata": {},
   "source": [
    "4.Write a Python program to check Prime Number ?"
   ]
  },
  {
   "cell_type": "code",
   "execution_count": null,
   "metadata": {},
   "outputs": [],
   "source": [
    "def isPrime(num):\n",
    "    flag = False\n",
    "    for i in range(2,num):\n",
    "        if num%i ==0:\n",
    "            flag= True\n",
    "            break\n",
    "    if(not flag):\n",
    "        print(f'{num} is a prime number')\n",
    "    else:\n",
    "        print(f'{num} is not a prime number')\n",
    "        \n",
    "n = int(input(\"Enter a number: \"))\n",
    "isPrime(n)"
   ]
  },
  {
   "cell_type": "markdown",
   "metadata": {},
   "source": [
    "5.Write a Python program to print all Prime Numbers in an interval of 1-10000 ?"
   ]
  },
  {
   "cell_type": "code",
   "execution_count": null,
   "metadata": {},
   "outputs": [],
   "source": [
    "lower = 900\n",
    "upper = 1000\n",
    "\n",
    "print(\"Prime numbers between\", lower, \"and\", upper, \"are:\")\n",
    "\n",
    "for num in range(lower, upper + 1):\n",
    "    if num > 1:\n",
    "        for i in range(2, num):\n",
    "            if (num % i) == 0:\n",
    "                break\n",
    "            else:\n",
    "                print(num)"
   ]
  },
  {
   "cell_type": "code",
   "execution_count": null,
   "metadata": {},
   "outputs": [],
   "source": []
  },
  {
   "cell_type": "code",
   "execution_count": null,
   "metadata": {},
   "outputs": [],
   "source": []
  },
  {
   "cell_type": "code",
   "execution_count": null,
   "metadata": {},
   "outputs": [],
   "source": []
  }
 ],
 "metadata": {
  "kernelspec": {
   "display_name": "Python 3",
   "language": "python",
   "name": "python3"
  },
  "language_info": {
   "codemirror_mode": {
    "name": "ipython",
    "version": 3
   },
   "file_extension": ".py",
   "mimetype": "text/x-python",
   "name": "python",
   "nbconvert_exporter": "python",
   "pygments_lexer": "ipython3",
   "version": "3.7.4"
  }
 },
 "nbformat": 4,
 "nbformat_minor": 2
}
