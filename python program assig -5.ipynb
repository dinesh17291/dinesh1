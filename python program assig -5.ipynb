{
 "cells": [
  {
   "cell_type": "markdown",
   "metadata": {},
   "source": [
    "Write a Python Program to Find LCM?"
   ]
  },
  {
   "cell_type": "code",
   "execution_count": 3,
   "metadata": {},
   "outputs": [
    {
     "name": "stdout",
     "output_type": "stream",
     "text": [
      "Enter the value a24\n",
      "Enter the value b36\n",
      "LCM of  24 and 36 is 72\n",
      "None\n"
     ]
    }
   ],
   "source": [
    "def lcm(a,b):\n",
    "    if a>b:\n",
    "        higher=a\n",
    "    else:\n",
    "        higher=b\n",
    "    value=higher\n",
    "    while True:\n",
    "        if(higher%a==0 and higher%b==0):\n",
    "            print(\"LCM of \",a,\"and\",b,\"is\",higher)\n",
    "            break\n",
    "        else:\n",
    "            higher=higher+value\n",
    "    \n",
    "a=int(input(\"Enter the value a\"))\n",
    "b=int(input(\"Enter the value b\"))\n",
    "print(lcm(a,b))"
   ]
  },
  {
   "cell_type": "markdown",
   "metadata": {},
   "source": [
    "Write a Python Program to Find HCF?"
   ]
  },
  {
   "cell_type": "code",
   "execution_count": 5,
   "metadata": {},
   "outputs": [
    {
     "name": "stdout",
     "output_type": "stream",
     "text": [
      "Enter the value a15\n",
      "Enter the value b25\n",
      "5\n"
     ]
    }
   ],
   "source": [
    "a=int(input(\"Enter the value a\"))\n",
    "b=int(input(\"Enter the value b\"))\n",
    "while a%b!=0:\n",
    "    rem=a%b\n",
    "    a=b\n",
    "    b=rem\n",
    "print(rem)"
   ]
  },
  {
   "cell_type": "markdown",
   "metadata": {},
   "source": [
    "Write a Python Program to Convert Decimal to Binary, Octal and Hexadecimal?"
   ]
  },
  {
   "cell_type": "code",
   "execution_count": 6,
   "metadata": {},
   "outputs": [
    {
     "name": "stdout",
     "output_type": "stream",
     "text": [
      "0b11011111\n",
      "0o337\n",
      "0xdf\n"
     ]
    }
   ],
   "source": [
    "a=223\n",
    "print(bin(a))\n",
    "print(oct(a))\n",
    "print(hex(a))"
   ]
  },
  {
   "cell_type": "markdown",
   "metadata": {},
   "source": [
    "Write a Python Program To Find ASCII value of a character?"
   ]
  },
  {
   "cell_type": "code",
   "execution_count": 11,
   "metadata": {},
   "outputs": [
    {
     "name": "stdout",
     "output_type": "stream",
     "text": [
      "enter the ASCII value: r\n",
      "114\n"
     ]
    }
   ],
   "source": [
    "a=input(\"enter the ASCII value: \")\n",
    "print(ord(a))"
   ]
  },
  {
   "cell_type": "markdown",
   "metadata": {},
   "source": [
    "Write a Python Program to Make a Simple Calculator with 4 basic mathematical operations?"
   ]
  },
  {
   "cell_type": "code",
   "execution_count": 12,
   "metadata": {},
   "outputs": [
    {
     "name": "stdout",
     "output_type": "stream",
     "text": [
      "Select operation.\n",
      "1.Add\n",
      "2.Subtract\n",
      "3.Multiply\n",
      "4.Divide\n",
      "Enter choice(1/2/3/4): 1\n",
      "Enter first number: 1\n",
      "Enter second number: 2\n",
      "1.0 + 2.0 = 3.0\n",
      "Let's do next calculation? (yes/no): no\n"
     ]
    }
   ],
   "source": [
    "def add(x, y):\n",
    "    return x + y\n",
    "\n",
    "def subtract(x, y):\n",
    "    return x - y\n",
    "\n",
    "def multiply(x, y):\n",
    "    return x * y\n",
    "\n",
    "def divide(x, y):\n",
    "    return x / y\n",
    "\n",
    "\n",
    "print(\"Select operation.\")\n",
    "print(\"1.Add\")\n",
    "print(\"2.Subtract\")\n",
    "print(\"3.Multiply\")\n",
    "print(\"4.Divide\")\n",
    "\n",
    "while True:\n",
    "    choice = input(\"Enter choice(1/2/3/4): \")\n",
    "\n",
    "    if choice in ('1', '2', '3', '4'):\n",
    "        num1 = float(input(\"Enter first number: \"))\n",
    "        num2 = float(input(\"Enter second number: \"))\n",
    "\n",
    "        if choice == '1':\n",
    "            print(num1, \"+\", num2, \"=\", add(num1, num2))\n",
    "\n",
    "        elif choice == '2':\n",
    "            print(num1, \"-\", num2, \"=\", subtract(num1, num2))\n",
    "\n",
    "        elif choice == '3':\n",
    "            print(num1, \"*\", num2, \"=\", multiply(num1, num2))\n",
    "\n",
    "        elif choice == '4':\n",
    "            print(num1, \"/\", num2, \"=\", divide(num1, num2))\n",
    "        \n",
    "        next_calculation = input(\"Let's do next calculation? (yes/no): \")\n",
    "        if next_calculation == \"no\":\n",
    "            break\n",
    "    \n",
    "    else:\n",
    "        print(\"Invalid Input\")"
   ]
  },
  {
   "cell_type": "code",
   "execution_count": null,
   "metadata": {},
   "outputs": [],
   "source": []
  }
 ],
 "metadata": {
  "kernelspec": {
   "display_name": "Python 3",
   "language": "python",
   "name": "python3"
  },
  "language_info": {
   "codemirror_mode": {
    "name": "ipython",
    "version": 3
   },
   "file_extension": ".py",
   "mimetype": "text/x-python",
   "name": "python",
   "nbconvert_exporter": "python",
   "pygments_lexer": "ipython3",
   "version": "3.7.4"
  }
 },
 "nbformat": 4,
 "nbformat_minor": 2
}
